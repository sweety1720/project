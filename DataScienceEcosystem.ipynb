{
 "cells": [
  {
   "cell_type": "markdown",
   "id": "0e8a3f7e-8870-43d2-978e-0e101e0e4c35",
   "metadata": {},
   "source": [
    "<h1>Data Science Tools and Ecosystem</h1>"
   ]
  },
  {
   "cell_type": "markdown",
   "id": "a2c7834e-8591-4c4d-9563-d7b1de7ba29d",
   "metadata": {},
   "source": [
    "<h2>In this notebook, Data Science Tools and Ecosystem are summarized.<h2>"
   ]
  },
  {
   "cell_type": "markdown",
   "id": "ee4643a3-f919-4ca6-a3d6-c959e0807936",
   "metadata": {},
   "source": [
    "<h3>\n",
    "<ol>\n",
    "<li>Python</li>\n",
    "<li>R</li>\n",
    "<li>JAVA</li>\n",
    "</ol>\n",
    "    </h3>"
   ]
  },
  {
   "cell_type": "markdown",
   "id": "24c6a3cf-55e7-457d-b531-5d0b674ff882",
   "metadata": {},
   "source": [
    "<h3>\n",
    "<li>matplotlib</li>\n",
    "<li>scikit-learn</li>\n",
    "<li>keras</li>\n",
    "    </h3>"
   ]
  },
  {
   "cell_type": "markdown",
   "id": "f5cb1bc1-99d4-4f2a-a97d-fe4fac369bc8",
   "metadata": {},
   "source": [
    "<h3>\n",
    "<table>\n",
    "    <tr>\n",
    "        <th>\n",
    "            Data Science Tools\n",
    "        </th>\n",
    "    </tr>\n",
    "    <tr>\n",
    "        <td>\n",
    "            Rstudio\n",
    "        </td>\n",
    "    </tr>\n",
    "      <tr>\n",
    "        <td>\n",
    "            Tensorflow\n",
    "        </td>\n",
    "    </tr>\n",
    "      <tr>\n",
    "        <td>\n",
    "            Apache Spark\n",
    "        </td>\n",
    "    </tr>\n",
    "</table>\n",
    "</h3>"
   ]
  },
  {
   "cell_type": "markdown",
   "id": "19b8fb90-d177-4200-89f0-fdf1d750ec4e",
   "metadata": {},
   "source": [
    "<h3>Below are a few examples of evaluating arithmetic expressions in Python</h3>"
   ]
  },
  {
   "cell_type": "code",
   "execution_count": 12,
   "id": "1fc7ae0e-2cbd-4c20-9460-6c1c34fae1af",
   "metadata": {},
   "outputs": [
    {
     "data": {
      "text/plain": [
       "17"
      ]
     },
     "execution_count": 12,
     "metadata": {},
     "output_type": "execute_result"
    }
   ],
   "source": [
    "(3*4)+5"
   ]
  },
  {
   "cell_type": "code",
   "execution_count": 13,
   "id": "7ee95b6a-e30d-45a5-a02a-c79548108e94",
   "metadata": {},
   "outputs": [
    {
     "name": "stdout",
     "output_type": "stream",
     "text": [
      "3.3333333333333335\n"
     ]
    }
   ],
   "source": [
    "# This will convert 200 minutes to hours by diving by 60\n",
    "print(200/60)"
   ]
  },
  {
   "cell_type": "markdown",
   "id": "e5f6ccc5-5c3e-4875-8db5-23d9b43e4152",
   "metadata": {},
   "source": [
    "<b>\n",
    "    Objectives:\n",
    "    <li>\n",
    "        List popular languages for Data Science\n",
    "        </li>\n",
    "    <li>\n",
    "        List popular tools for Data Science\n",
    "        </li>\n",
    "    <li>\n",
    "        List popular libraries for Data Science\n",
    "        </li>\n",
    "    </b>"
   ]
  },
  {
   "cell_type": "markdown",
   "id": "8d046459-e476-44a7-8eb7-d56d0b8977e2",
   "metadata": {},
   "source": [
    "<h2>Author</h2>\n",
    "sweety pareek"
   ]
  },
  {
   "cell_type": "code",
   "execution_count": null,
   "id": "52239f03-5145-4190-bc76-5e1573dbd506",
   "metadata": {},
   "outputs": [],
   "source": []
  }
 ],
 "metadata": {
  "kernelspec": {
   "display_name": "Python 3 (ipykernel)",
   "language": "python",
   "name": "python3"
  },
  "language_info": {
   "codemirror_mode": {
    "name": "ipython",
    "version": 3
   },
   "file_extension": ".py",
   "mimetype": "text/x-python",
   "name": "python",
   "nbconvert_exporter": "python",
   "pygments_lexer": "ipython3",
   "version": "3.9.7"
  }
 },
 "nbformat": 4,
 "nbformat_minor": 5
}
